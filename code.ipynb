{
  "cells": [
    {
      "cell_type": "code",
      "execution_count": 15,
      "metadata": {
        "id": "MZXk52MNo73V"
      },
      "outputs": [],
      "source": [
        "import pandas as pd\n",
        "import numpy as np\n",
        "from PIL import Image\n",
        "from sklearn.metrics import confusion_matrix, ConfusionMatrixDisplay\n",
        "import pandas as pd\n",
        "import seaborn as sn\n",
        "import matplotlib.pyplot as plt\n",
        "from sklearn.metrics import accuracy_score"
      ]
    },
    {
      "cell_type": "code",
      "execution_count": 16,
      "metadata": {
        "id": "WKXEdD0fp1-C"
      },
      "outputs": [],
      "source": [
        "from zipfile import ZipFile\n",
        "file_name = '/content/Data.zip'\n",
        "with ZipFile(file_name, 'r') as zip:\n",
        "  zip.extractall()"
      ]
    },
    {
      "cell_type": "code",
      "execution_count": 17,
      "metadata": {
        "id": "-kck6rOVp1D5"
      },
      "outputs": [],
      "source": [
        "# looping over the train and test folders to convert each image into an array and then saving the images in an array\n",
        "\n",
        "img_Train = np.ones([2400, 784])\n",
        "for i in range(2400): \n",
        "  path = '/content/Data/Train/' + str(i+1) + \".jpg\"\n",
        "  img = Image.open(path)\n",
        "  img_Train[i] = np.array(img).flatten()\n",
        "\n",
        "img_test = np.ones([200, 784])\n",
        "for i in range(200):\n",
        "  path = '/content/Data/Test/' + str(i+1) + \".jpg\"\n",
        "  img = Image.open(path)\n",
        "  img_test[i] = np.array(img).flatten()"
      ]
    },
    {
      "cell_type": "code",
      "execution_count": 18,
      "metadata": {
        "id": "rRmllSeIqElv"
      },
      "outputs": [],
      "source": [
        "# method to seprate one class from others as each 240 image represent a class\n",
        "\n",
        "def getClass(n, img):\n",
        "  arr = np.zeros([240, 784])\n",
        "  for j in range(240):\n",
        "    arr[j] = img[(n * 240)+j]\n",
        "  return arr"
      ]
    },
    {
      "cell_type": "code",
      "execution_count": 19,
      "metadata": {
        "id": "K0QXRaUoqHvg"
      },
      "outputs": [],
      "source": [
        "# method to seprate the other classes from the class we got\n",
        "\n",
        "def getOtherClasses(n, train):\n",
        "  arr = []\n",
        "  for i in range(240):\n",
        "    arr.append((n * 240) + i)\n",
        "  im = np.delete(train, arr, axis = 0)\n",
        "  return im"
      ]
    },
    {
      "cell_type": "code",
      "execution_count": 20,
      "metadata": {
        "id": "m3t692SlqmTN"
      },
      "outputs": [],
      "source": [
        "WT = []\n",
        "W0 = []\n",
        "s1 = np.zeros([784, 784])\n",
        "s2 = np.zeros([784, 784])\n",
        "for i in range(10):\n",
        "\n",
        "  #separating classes\n",
        "  c1 = getClass(i, img_Train)\n",
        "  c2 = getOtherClasses(i, img_Train)\n",
        "\n",
        "  #getting thier mean\n",
        "  m1 = (np.sum(c1, axis = 0, keepdims = True))/(len(c1))\n",
        "  m2 = (np.sum(c2, axis = 0, keepdims = True))/(len(c2))\n",
        "\n",
        "  #getting thier variance\n",
        "  s1 += np.dot( np.transpose(np.subtract(c1, m1)), np.subtract(c1, m1) )\n",
        "  s2 += np.dot( np.transpose(np.subtract(c2, m2)), np.subtract(c2, m2) )\n",
        "\n",
        "  swInv = np.linalg.pinv(np.add(s1, s2))\n",
        "\n",
        "  w = np.dot((np.subtract(m2, m1)), (swInv))\n",
        "  wt = np.transpose(w)\n",
        "  w0 = (-1/2) * np.dot((np.add(m1, m2)), wt)\n",
        "\n",
        "  WT.append(wt)\n",
        "  W0.append(w0)"
      ]
    },
    {
      "cell_type": "code",
      "execution_count": 21,
      "metadata": {
        "id": "aiILqUbI8gKI"
      },
      "outputs": [],
      "source": [
        "noBias = np.zeros([200])\n",
        "Bias = np.zeros([200])\n",
        "for i in range(200):\n",
        "  Pnobias = []\n",
        "  Pbias = []\n",
        "  for j in range(10):\n",
        "    p = np.dot(img_test[i], WT[j])\n",
        "    Pnobias.append(p)\n",
        "    Pbias.append( np.add(p, W0[j]) )\n",
        "\n",
        "  min1 = np.amin(Pnobias)\n",
        "  min2 = np.amin(Pbias)\n",
        "\n",
        "  index1 = np.where(Pnobias == min1)\n",
        "  index2 = np.where(Pbias == min2)\n",
        "\n",
        "  noBias[i] = index1[0][0]\n",
        "  Bias[i] = index2[0][0]"
      ]
    },
    {
      "cell_type": "code",
      "execution_count": 22,
      "metadata": {
        "colab": {
          "base_uri": "https://localhost:8080/",
          "height": 432
        },
        "id": "kPH1Y_0Z83LW",
        "outputId": "2be79a4b-73c7-4e15-b0b5-8c08453ef1c2"
      },
      "outputs": [
        {
          "output_type": "display_data",
          "data": {
            "text/plain": [
              "<Figure size 720x504 with 2 Axes>"
            ],
            "image/png": "[encoded data removed]"
          },
          "metadata": {
            "needs_background": "light"
          }
        }
      ],
      "source": [
        "test_Labels = np.genfromtxt(\"/content/Data/Test/Test Labels.txt\", delimiter = \",\")\n",
        "\n",
        "# without bias term\n",
        "cfm = confusion_matrix(test_Labels, noBias)\n",
        "classes = [\"0\", \"1\", \"2\",\"3\", \"4\", \"5\",\"6\", \"7\", \"8\", \"9\"]\n",
        "df_cfm = pd.DataFrame(cfm, index = classes, columns = classes)\n",
        "plt.figure(figsize = (10,7))\n",
        "cfm_plot = sn.heatmap(df_cfm, annot=True)\n",
        "cfm_plot.figure.savefig(\"ConfusionNoBias.jpg\")"
      ]
    },
    {
      "cell_type": "code",
      "execution_count": 23,
      "metadata": {
        "colab": {
          "base_uri": "https://localhost:8080/",
          "height": 432
        },
        "id": "PmOMNHwGAqVa",
        "outputId": "e0ec9982-1245-4211-e1cd-8d3e9563ce81"
      },
      "outputs": [
        {
          "output_type": "display_data",
          "data": {
            "text/plain": [
              "<Figure size 720x504 with 2 Axes>"
            ],
            "image/png": "[encoded data removed]"
          },
          "metadata": {
            "needs_background": "light"
          }
        }
      ],
      "source": [
        "# with bias term\n",
        "cfm = confusion_matrix(test_Labels, Bias)\n",
        "classes = [\"0\", \"1\", \"2\",\"3\", \"4\", \"5\",\"6\", \"7\", \"8\", \"9\"]\n",
        "df_cfm = pd.DataFrame(cfm, index = classes, columns = classes)\n",
        "plt.figure(figsize = (10,7))\n",
        "cfm_plot = sn.heatmap(df_cfm, annot=True)\n",
        "cfm_plot.figure.savefig(\"ConfusionWithBias.jpg\")"
      ]
    },
    {
      "cell_type": "code",
      "execution_count": 24,
      "metadata": {
        "colab": {
          "base_uri": "https://localhost:8080/"
        },
        "id": "jyxMFfieHA1O",
        "outputId": "3021e3e1-af52-477f-bd29-b16132045721"
      },
      "outputs": [
        {
          "output_type": "stream",
          "name": "stdout",
          "text": [
            "Accuracy of testing Phase without bias term = 65.0 %\n",
            "Accuracy of testing Phase with bias term = 82.0 %\n"
          ]
        }
      ],
      "source": [
        "# without bias term\n",
        "print('Accuracy of testing Phase without bias term =', accuracy_score(noBias,test_Labels)*100, '%')\n",
        "\n",
        "# with bias term\n",
        "print('Accuracy of testing Phase with bias term =', accuracy_score(Bias,test_Labels)*100, '%')"
      ]
    },
    {
      "cell_type": "markdown",
      "metadata": {
        "id": "oFypKDWlH-dH"
      },
      "source": [
        "As shown using bias term resulted in a higher accuracy model than that without bias term"
      ]
    }
  ],
  "metadata": {
    "colab": {
      "provenance": []
    },
    "kernelspec": {
      "display_name": "Python 3",
      "name": "python3"
    },
    "language_info": {
      "name": "python"
    }
  },
  "nbformat": 4,
  "nbformat_minor": 0
}